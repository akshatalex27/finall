{
    "cells": [
        {
            "cell_type": "markdown",
            "metadata": {
                "collapsed": true
            },
            "source": "# My Jupyter Notebook on IBM Watson Studio"
        },
        {
            "cell_type": "markdown",
            "metadata": {},
            "source": "<b> Akshat Prakash </b> \n\nDATA ANALYST STUDENT "
        },
        {
            "cell_type": "markdown",
            "metadata": {},
            "source": "_Data Science is going to be very crucial for upcoming years._"
        },
        {
      "cell_type": "markdown",
      "source": "### Below we will do division",
      "metadata": {}
    },
    {
      "cell_type": "code",
      "source": "30/2",
      "metadata": {
        "trusted": true
      },
      "execution_count": 4,
      "outputs": [
        {
          "execution_count": 4,
          "output_type": "execute_result",
          "data": {
            "text/plain": "15.0"
          },
          "metadata": {}
        }
      ]
    },
    {
      "cell_type": "markdown",
      "source": "-  Example of bulleted  \n-  hello\n1.  numbered lists \n2. hello 2\n\nMarkdowns can also includes strikethrough just like ~~this.~~",
      "metadata": {}
    }
  ]
}
