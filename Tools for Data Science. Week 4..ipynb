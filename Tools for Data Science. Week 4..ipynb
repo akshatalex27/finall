{
    "cells": [
        {
            "cell_type": "markdown",
            "metadata": {
                "collapsed": true
            },
            "source": "# My Jupyter Notebook on IBM Watson Studio"
        },
        {
            "cell_type": "markdown",
            "metadata": {},
            "source": "<b> Akshat Prakash </b> \n\nDATA ANALYST STUDENT "
        },
        {
            "cell_type": "markdown",
            "metadata": {},
            "source": "_Data Science is going to be very crucial for upcoming years._"
        },
        {
   "cell_type": "markdown",
   "metadata": {},
   "source": [
    "## The code will add two integers ##\n",
    "\n"
   ]
  },
  {
   "cell_type": "code",
   "execution_count": 1,
   "metadata": {},
   "outputs": [
    {
     "name": "stdout",
     "output_type": "stream",
     "text": [
      "10\n"
     ]
    }
   ],
   "source": [
    "suma = 5+5\n",
    "print(suma)"
   ]
  },
  {
   "cell_type": "code",
   "execution_count": null,
   "metadata": {},
   "outputs": [],
   "source": []
  }
        {
      "cell_type": "markdown",
      "source": "-  Example of bulleted lits \n-  shown as such\n1. how about numbered lists \n2. shown as such\n\nMarkdowns can also includes strikethrough just like ~~this.~~",
      "metadata": {}
    }
 
}

 ],
 "metadata": {
  "kernelspec": {
   "display_name": "Python",
   "language": "python",
   "name": "conda-env-python-py"
  },
  "language_info": {
   "codemirror_mode": {
    "name": "ipython",
    "version": 3
   },
   "file_extension": ".py",
   "mimetype": "text/x-python",
   "name": "python",
   "nbconvert_exporter": "python",
   "pygments_lexer": "ipython3",
   "version": "3.7.12"
  }
 },
 "nbformat": 4,
 "nbformat_minor": 4
}
